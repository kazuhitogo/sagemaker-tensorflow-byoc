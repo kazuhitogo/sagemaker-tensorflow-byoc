{
 "cells": [
  {
   "cell_type": "markdown",
   "metadata": {},
   "source": [
    "# Amazon SageMaker - Bring Your Own Container¶\n",
    "### 学習用インスタンスでの学習\n",
    "ここでは TensorFlow を使ったサンプルコードを題材に、Amazon SageMaker で独自コンテナを用いた機械学習モデルの学習方法を順を追って説明します。トレーニングスクリプトは既に SageMaker 向けに書き換えられた形で準備され、その上で、独自の学習用コンテナを活用します。 トレーニングスクリプトを SageMaker 向けに書き換える際は [Bring Your Own Model ハンズオンワークショップ](https://github.com/aws-samples/amazon-sagemaker-examples-jp/tree/master/workshop/lab_bring-your-own-model) をご参考に下さい。\n",
    "\n",
    "また本ハンズオンで活用するデータは、[Bring Your Own Container のためのデータ準備](https://github.com/tkazusa/data_prep.ipynb)をお使い下さい。"
   ]
  },
  {
   "cell_type": "code",
   "execution_count": 1,
   "metadata": {},
   "outputs": [
    {
     "name": "stderr",
     "output_type": "stream",
     "text": [
      "Using TensorFlow backend.\n"
     ]
    },
    {
     "name": "stdout",
     "output_type": "stream",
     "text": [
      "WARNING:tensorflow:From /home/ec2-user/anaconda3/envs/tensorflow_p36/lib/python3.6/site-packages/tensorflow_core/__init__.py:1467: The name tf.estimator.inputs is deprecated. Please use tf.compat.v1.estimator.inputs instead.\n",
      "\n"
     ]
    }
   ],
   "source": [
    "import keras\n",
    "\n",
    "import boto3\n",
    "import sagemaker\n",
    "from sagemaker import get_execution_role\n",
    "from sagemaker.estimator import Estimator\n",
    "\n",
    "sess = sagemaker.Session()"
   ]
  },
  {
   "cell_type": "code",
   "execution_count": 2,
   "metadata": {},
   "outputs": [
    {
     "name": "stdout",
     "output_type": "stream",
     "text": [
      "Requirement already satisfied: sagemaker-experiments in /home/ec2-user/anaconda3/envs/tensorflow_p36/lib/python3.6/site-packages (0.1.7)\n",
      "Requirement already satisfied: boto3>=1.10.32 in /home/ec2-user/anaconda3/envs/tensorflow_p36/lib/python3.6/site-packages (from sagemaker-experiments) (1.11.14)\n",
      "Requirement already satisfied: s3transfer<0.4.0,>=0.3.0 in /home/ec2-user/anaconda3/envs/tensorflow_p36/lib/python3.6/site-packages (from boto3>=1.10.32->sagemaker-experiments) (0.3.3)\n",
      "Requirement already satisfied: jmespath<1.0.0,>=0.7.1 in /home/ec2-user/anaconda3/envs/tensorflow_p36/lib/python3.6/site-packages (from boto3>=1.10.32->sagemaker-experiments) (0.9.4)\n",
      "Requirement already satisfied: botocore<1.15.0,>=1.14.14 in /home/ec2-user/anaconda3/envs/tensorflow_p36/lib/python3.6/site-packages (from boto3>=1.10.32->sagemaker-experiments) (1.14.14)\n",
      "Requirement already satisfied: python-dateutil<3.0.0,>=2.1 in /home/ec2-user/anaconda3/envs/tensorflow_p36/lib/python3.6/site-packages (from botocore<1.15.0,>=1.14.14->boto3>=1.10.32->sagemaker-experiments) (2.7.3)\n",
      "Requirement already satisfied: urllib3<1.26,>=1.20; python_version != \"3.4\" in /home/ec2-user/anaconda3/envs/tensorflow_p36/lib/python3.6/site-packages (from botocore<1.15.0,>=1.14.14->boto3>=1.10.32->sagemaker-experiments) (1.23)\n",
      "Requirement already satisfied: docutils<0.16,>=0.10 in /home/ec2-user/anaconda3/envs/tensorflow_p36/lib/python3.6/site-packages (from botocore<1.15.0,>=1.14.14->boto3>=1.10.32->sagemaker-experiments) (0.14)\n",
      "Requirement already satisfied: six>=1.5 in /home/ec2-user/anaconda3/envs/tensorflow_p36/lib/python3.6/site-packages (from python-dateutil<3.0.0,>=2.1->botocore<1.15.0,>=1.14.14->boto3>=1.10.32->sagemaker-experiments) (1.11.0)\n",
      "\u001b[33mWARNING: You are using pip version 19.3.1; however, version 20.0.2 is available.\n",
      "You should consider upgrading via the 'pip install --upgrade pip' command.\u001b[0m\n",
      "Requirement already satisfied: smdebug in /home/ec2-user/anaconda3/envs/tensorflow_p36/lib/python3.6/site-packages (0.6.0)\n",
      "Requirement already satisfied: boto3>=1.10.32 in /home/ec2-user/anaconda3/envs/tensorflow_p36/lib/python3.6/site-packages (from smdebug) (1.11.14)\n",
      "Requirement already satisfied: packaging in /home/ec2-user/anaconda3/envs/tensorflow_p36/lib/python3.6/site-packages (from smdebug) (20.1)\n",
      "Requirement already satisfied: numpy in /home/ec2-user/anaconda3/envs/tensorflow_p36/lib/python3.6/site-packages (from smdebug) (1.16.4)\n",
      "Requirement already satisfied: protobuf>=3.6.0 in /home/ec2-user/anaconda3/envs/tensorflow_p36/lib/python3.6/site-packages (from smdebug) (3.8.0)\n",
      "Requirement already satisfied: s3transfer<0.4.0,>=0.3.0 in /home/ec2-user/anaconda3/envs/tensorflow_p36/lib/python3.6/site-packages (from boto3>=1.10.32->smdebug) (0.3.3)\n",
      "Requirement already satisfied: botocore<1.15.0,>=1.14.14 in /home/ec2-user/anaconda3/envs/tensorflow_p36/lib/python3.6/site-packages (from boto3>=1.10.32->smdebug) (1.14.14)\n",
      "Requirement already satisfied: jmespath<1.0.0,>=0.7.1 in /home/ec2-user/anaconda3/envs/tensorflow_p36/lib/python3.6/site-packages (from boto3>=1.10.32->smdebug) (0.9.4)\n",
      "Requirement already satisfied: six in /home/ec2-user/anaconda3/envs/tensorflow_p36/lib/python3.6/site-packages (from packaging->smdebug) (1.11.0)\n",
      "Requirement already satisfied: pyparsing>=2.0.2 in /home/ec2-user/anaconda3/envs/tensorflow_p36/lib/python3.6/site-packages (from packaging->smdebug) (2.2.0)\n",
      "Requirement already satisfied: setuptools in /home/ec2-user/anaconda3/envs/tensorflow_p36/lib/python3.6/site-packages (from protobuf>=3.6.0->smdebug) (41.6.0)\n",
      "Requirement already satisfied: docutils<0.16,>=0.10 in /home/ec2-user/anaconda3/envs/tensorflow_p36/lib/python3.6/site-packages (from botocore<1.15.0,>=1.14.14->boto3>=1.10.32->smdebug) (0.14)\n",
      "Requirement already satisfied: python-dateutil<3.0.0,>=2.1 in /home/ec2-user/anaconda3/envs/tensorflow_p36/lib/python3.6/site-packages (from botocore<1.15.0,>=1.14.14->boto3>=1.10.32->smdebug) (2.7.3)\n",
      "Requirement already satisfied: urllib3<1.26,>=1.20; python_version != \"3.4\" in /home/ec2-user/anaconda3/envs/tensorflow_p36/lib/python3.6/site-packages (from botocore<1.15.0,>=1.14.14->boto3>=1.10.32->smdebug) (1.23)\n",
      "\u001b[33mWARNING: You are using pip version 19.3.1; however, version 20.0.2 is available.\n",
      "You should consider upgrading via the 'pip install --upgrade pip' command.\u001b[0m\n"
     ]
    }
   ],
   "source": [
    "import sys\n",
    "!{sys.executable} -m pip install sagemaker-experiments\n",
    "!{sys.executable} -m pip install smdebug"
   ]
  },
  {
   "cell_type": "code",
   "execution_count": 3,
   "metadata": {},
   "outputs": [
    {
     "name": "stdout",
     "output_type": "stream",
     "text": [
      "Sending build context to Docker daemon  13.31kB\n",
      "Step 1/4 : FROM tensorflow/tensorflow:nightly-gpu\n",
      " ---> ad7cd4026486\n",
      "Step 2/4 : RUN pip install sagemaker-containers\n",
      " ---> Using cache\n",
      " ---> 28545073ce2f\n",
      "Step 3/4 : COPY tf_codes /opt/ml/code/\n",
      " ---> Using cache\n",
      " ---> f756d6396bd2\n",
      "Step 4/4 : ENV SAGEMAKER_PROGRAM train.py\n",
      " ---> Using cache\n",
      " ---> b94cf342c274\n",
      "Successfully built b94cf342c274\n",
      "Successfully tagged sm-tf-nightly-gpu:latest\n"
     ]
    }
   ],
   "source": [
    "!docker build -t sm-tf-nightly-gpu container/."
   ]
  },
  {
   "cell_type": "markdown",
   "metadata": {},
   "source": [
    "## 学習用インスタンスを用いた学習\n",
    "### ECR への Docker イメージの登録\n",
    "build した Docker イメージを Docker コンテナレジストリである Amazon ECR へ登録することで、SageMaker の学習時に活用できるようになります。"
   ]
  },
  {
   "cell_type": "code",
   "execution_count": 4,
   "metadata": {},
   "outputs": [
    {
     "name": "stdout",
     "output_type": "stream",
     "text": [
      "WARNING! Using --password via the CLI is insecure. Use --password-stdin.\n",
      "WARNING! Your password will be stored unencrypted in /home/ec2-user/.docker/config.json.\n",
      "Configure a credential helper to remove this warning. See\n",
      "https://docs.docker.com/engine/reference/commandline/login/#credentials-store\n",
      "\n",
      "Login Succeeded\n",
      "\n",
      "An error occurred (RepositoryAlreadyExistsException) when calling the CreateRepository operation: The repository with name 'sm-tf-nightly-gpu' already exists in the registry with id '815969174475'\n",
      "unable to prepare context: unable to evaluate symlinks in Dockerfile path: lstat /home/ec2-user/SageMaker/sagemaker-tensorflow-byoc/Dockerfile: no such file or directory\n",
      "The push refers to repository [815969174475.dkr.ecr.us-east-1.amazonaws.com/sm-tf-nightly-gpu]\n",
      "\n",
      "\u001b[1B4cc0702b: Preparing \n",
      "\u001b[1Bdd9cc193: Preparing \n",
      "\u001b[1Bff51c6a3: Preparing \n",
      "\u001b[1B753ea774: Preparing \n",
      "\u001b[1Bb74783e3: Preparing \n",
      "\u001b[1B8916be48: Preparing \n",
      "\u001b[1B0a0d84e3: Preparing \n",
      "\u001b[1B97f02d3e: Preparing \n",
      "\u001b[1B45052e8d: Preparing \n",
      "\u001b[1Beb49a301: Preparing \n",
      "\u001b[1Bf76fc560: Preparing \n",
      "\u001b[1Bd332a58a: Preparing \n",
      "\u001b[1Bf11cbf29: Preparing \n",
      "\u001b[1Ba4b22186: Preparing \n",
      "\u001b[1Bafb09dc3: Preparing \n",
      "\u001b[1Bb5a53aac: Preparing \n",
      "\u001b[1Bc8e5063e: Preparing \n",
      "\u001b[1B7c529ced: Layer already exists K\u001b[12A\u001b[1K\u001b[K\u001b[5A\u001b[1K\u001b[Klatest: digest: sha256:1c4ff01a92f76320e27718c3799adc9365f01e77b2c6b6f599e9206916815604 size: 4095\n",
      "コンテナは 815969174475.dkr.ecr.us-east-1.amazonaws.com/sm-tf-nightly-gpu:latest へ登録されています。\n"
     ]
    }
   ],
   "source": [
    "import boto3\n",
    "\n",
    "# boto3の機能を使ってリポジトリ名に必要な情報を取得する\n",
    "account_id = boto3.client('sts').get_caller_identity().get('Account')\n",
    "region = boto3.session.Session().region_name\n",
    "tag = ':latest'\n",
    "\n",
    "ecr_repository = 'sm-tf-nightly-gpu'\n",
    "image_uri = '{}.dkr.ecr.{}.amazonaws.com/{}'.format(account_id, region, ecr_repository + tag)\n",
    "\n",
    "!$(aws ecr get-login --region $region --registry-ids $account_id --no-include-email)\n",
    " \n",
    "# リポジトリの作成\n",
    "# すでにある場合はこのコマンドは必要ない\n",
    "!aws ecr create-repository --repository-name $ecr_repository\n",
    " \n",
    "!docker build -t word2vec .\n",
    "!docker tag {ecr_repository + tag} $image_uri\n",
    "!docker push $image_uri\n",
    "\n",
    "print('コンテナは {} へ登録されています。'.format(image_uri))"
   ]
  },
  {
   "cell_type": "markdown",
   "metadata": {},
   "source": [
    "## 実験の作成"
   ]
  },
  {
   "cell_type": "code",
   "execution_count": 28,
   "metadata": {},
   "outputs": [
    {
     "name": "stdout",
     "output_type": "stream",
     "text": [
      "Experiment(sagemaker_boto_client=<botocore.client.SageMaker object at 0x7f1682a76f28>,experiment_name='tensorflow-byoc-1582523849',description='tensorflow experiments',experiment_arn='arn:aws:sagemaker:us-east-1:815969174475:experiment/tensorflow-byoc-1582523849',response_metadata={'RequestId': 'e69a22fc-4cfa-4a4c-9423-126676e900bf', 'HTTPStatusCode': 200, 'HTTPHeaders': {'x-amzn-requestid': 'e69a22fc-4cfa-4a4c-9423-126676e900bf', 'content-type': 'application/x-amz-json-1.1', 'content-length': '98', 'date': 'Mon, 24 Feb 2020 05:57:29 GMT'}, 'RetryAttempts': 0})\n"
     ]
    }
   ],
   "source": [
    "import boto3\n",
    "import time\n",
    "from smexperiments.experiment import Experiment\n",
    "\n",
    "boto3_sess = boto3.Session()\n",
    "sm = boto3_sess.client('sagemaker')\n",
    "\n",
    "tf_experiment = Experiment.create(\n",
    "    experiment_name=f\"tensorflow-byoc-{int(time.time())}\", \n",
    "    description=\"tensorflow experiments\", \n",
    "    sagemaker_boto_client=sm)\n",
    "\n",
    "print(tf_experiment)"
   ]
  },
  {
   "cell_type": "markdown",
   "metadata": {},
   "source": [
    "### GPU を使った学習インスタンスでの学習\n",
    "登録された Docker イメージと、S3 へアップロードされたデータを用いて学習を行います。\n",
    "ここでは Optimizer を 'Adam' と 'SGD' とで変更した際の実験管理を行っています。"
   ]
  },
  {
   "cell_type": "code",
   "execution_count": 29,
   "metadata": {},
   "outputs": [
    {
     "name": "stderr",
     "output_type": "stream",
     "text": [
      "INFO:sagemaker:Creating training-job with name: tf-job-1582523851\n"
     ]
    },
    {
     "name": "stdout",
     "output_type": "stream",
     "text": [
      "tf-training-job-adam-1582523850\n"
     ]
    },
    {
     "name": "stderr",
     "output_type": "stream",
     "text": [
      "INFO:sagemaker:Creating training-job with name: tf-job-1582523853\n"
     ]
    },
    {
     "name": "stdout",
     "output_type": "stream",
     "text": [
      "tf-training-job-sgd-1582523853\n"
     ]
    }
   ],
   "source": [
    "from smexperiments.experiment import Experiment\n",
    "from smexperiments.trial import Trial\n",
    "from smexperiments.trial_component import TrialComponent\n",
    "\n",
    "\n",
    "role = get_execution_role()\n",
    "bucket = '20200222-tensorflow-byoc'\n",
    "output_path = 's3://{}/output'.format(bucket)\n",
    "data_path = {'train': 's3://{}/data'.format(bucket)}\n",
    "\n",
    "metric_definitions = [{'Name': 'loss',\n",
    "                       'Regex': 'loss: ([0-9\\\\.]+)'},\n",
    "                      {'Name': 'accuracy',\n",
    "                       'Regex': 'accuracy: ([0-9\\\\.]+)'}]\n",
    "\n",
    "trial_name_map = {}\n",
    "\n",
    "optimizers = ['adam', 'sgd']\n",
    "\n",
    "for i, optimizer in enumerate(optimizers):\n",
    "    # Trial の作成\n",
    "    trial_name = f'tf-training-job-{optimizer}-{int(time.time())}'\n",
    "    print(trial_name)\n",
    "    \n",
    "    \n",
    "    tf_trial = Trial.create(\n",
    "        trial_name=trial_name, \n",
    "        experiment_name=tf_experiment.experiment_name,\n",
    "        sagemaker_boto_client=sm,\n",
    "    )\n",
    "    trial_name_map[optimizer] = trial_name\n",
    "    \n",
    "    # Estimator の作成とfit。\n",
    "    hyperparameters = {'batch_size': 64,'epochs': 1, 'optimizer': optimizer}\n",
    "    estimator = Estimator(image_name=image_uri,\n",
    "                          role=role,\n",
    "                          hyperparameters=hyperparameters,\n",
    "                          train_instance_count=1,\n",
    "                          train_instance_type='ml.p2.xlarge',\n",
    "                          output_path=output_path,\n",
    "                          metric_definitions=metric_definitions,\n",
    "                          enable_sagemaker_metrics=True,)\n",
    "    \n",
    "    tf_training_job_name = \"tf-job-{}\".format(int(time.time()))\n",
    "    \n",
    "    estimator.fit(data_path,\n",
    "                 job_name=tf_training_job_name,\n",
    "                  \n",
    "                 experiment_config={\n",
    "                     'TrialName': tf_trial.trial_name,\n",
    "                     'TrialComponentDisplayName': 'Training',\n",
    "                 },\n",
    "                  \n",
    "                 wait=False)\n",
    "    \n",
    "    time.sleep(2)"
   ]
  },
  {
   "cell_type": "code",
   "execution_count": 35,
   "metadata": {},
   "outputs": [],
   "source": [
    "search_expression = {\n",
    "    \"Filters\":[\n",
    "        {\n",
    "            \"Name\": \"DisplayName\",\n",
    "            \"Operator\": \"Equals\",\n",
    "            \"Value\": \"Training\",\n",
    "        }\n",
    "    ],\n",
    "}"
   ]
  },
  {
   "cell_type": "code",
   "execution_count": 36,
   "metadata": {},
   "outputs": [],
   "source": [
    "from sagemaker.session import Session\n",
    "from sagemaker.analytics import ExperimentAnalytics\n",
    "\n",
    "sess = boto3.Session()\n",
    "\n",
    "trial_component_analytics = ExperimentAnalytics(\n",
    "    sagemaker_session=Session(sess, sm), \n",
    "    experiment_name=tf_experiment.experiment_name,\n",
    "    search_expression=search_expression,\n",
    "    sort_by=\"metrics.accuracy.max\",\n",
    "    sort_order=\"Descending\",\n",
    "    metric_names=['accuracy'],\n",
    "    parameter_names=['optimizer']\n",
    ")"
   ]
  },
  {
   "cell_type": "code",
   "execution_count": 37,
   "metadata": {},
   "outputs": [],
   "source": [
    "analytic_table = trial_component_analytics.dataframe()"
   ]
  },
  {
   "cell_type": "code",
   "execution_count": 38,
   "metadata": {},
   "outputs": [
    {
     "data": {
      "text/html": [
       "<div>\n",
       "<style scoped>\n",
       "    .dataframe tbody tr th:only-of-type {\n",
       "        vertical-align: middle;\n",
       "    }\n",
       "\n",
       "    .dataframe tbody tr th {\n",
       "        vertical-align: top;\n",
       "    }\n",
       "\n",
       "    .dataframe thead th {\n",
       "        text-align: right;\n",
       "    }\n",
       "</style>\n",
       "<table border=\"1\" class=\"dataframe\">\n",
       "  <thead>\n",
       "    <tr style=\"text-align: right;\">\n",
       "      <th></th>\n",
       "      <th>TrialComponentName</th>\n",
       "      <th>DisplayName</th>\n",
       "      <th>SourceArn</th>\n",
       "      <th>optimizer</th>\n",
       "      <th>accuracy - Min</th>\n",
       "      <th>accuracy - Max</th>\n",
       "      <th>accuracy - Avg</th>\n",
       "      <th>accuracy - StdDev</th>\n",
       "      <th>accuracy - Last</th>\n",
       "      <th>accuracy - Count</th>\n",
       "    </tr>\n",
       "  </thead>\n",
       "  <tbody>\n",
       "    <tr>\n",
       "      <th>0</th>\n",
       "      <td>tf-job-1582523851-aws-training-job</td>\n",
       "      <td>Training</td>\n",
       "      <td>arn:aws:sagemaker:us-east-1:815969174475:train...</td>\n",
       "      <td>adam</td>\n",
       "      <td>0.1094</td>\n",
       "      <td>0.9375</td>\n",
       "      <td>0.52345</td>\n",
       "      <td>0.585555</td>\n",
       "      <td>0.9375</td>\n",
       "      <td>2</td>\n",
       "    </tr>\n",
       "    <tr>\n",
       "      <th>1</th>\n",
       "      <td>tf-job-1582523853-aws-training-job</td>\n",
       "      <td>Training</td>\n",
       "      <td>arn:aws:sagemaker:us-east-1:815969174475:train...</td>\n",
       "      <td>sgd</td>\n",
       "      <td>0.1562</td>\n",
       "      <td>0.3750</td>\n",
       "      <td>0.26560</td>\n",
       "      <td>0.154715</td>\n",
       "      <td>0.3750</td>\n",
       "      <td>2</td>\n",
       "    </tr>\n",
       "  </tbody>\n",
       "</table>\n",
       "</div>"
      ],
      "text/plain": [
       "                   TrialComponentName DisplayName  \\\n",
       "0  tf-job-1582523851-aws-training-job    Training   \n",
       "1  tf-job-1582523853-aws-training-job    Training   \n",
       "\n",
       "                                           SourceArn optimizer  \\\n",
       "0  arn:aws:sagemaker:us-east-1:815969174475:train...      adam   \n",
       "1  arn:aws:sagemaker:us-east-1:815969174475:train...       sgd   \n",
       "\n",
       "   accuracy - Min  accuracy - Max  accuracy - Avg  accuracy - StdDev  \\\n",
       "0          0.1094          0.9375         0.52345           0.585555   \n",
       "1          0.1562          0.3750         0.26560           0.154715   \n",
       "\n",
       "   accuracy - Last  accuracy - Count  \n",
       "0           0.9375                 2  \n",
       "1           0.3750                 2  "
      ]
     },
     "execution_count": 38,
     "metadata": {},
     "output_type": "execute_result"
    }
   ],
   "source": [
    "analytic_table"
   ]
  },
  {
   "cell_type": "code",
   "execution_count": null,
   "metadata": {},
   "outputs": [],
   "source": []
  }
 ],
 "metadata": {
  "kernelspec": {
   "display_name": "conda_tensorflow_p36",
   "language": "python",
   "name": "conda_tensorflow_p36"
  },
  "language_info": {
   "codemirror_mode": {
    "name": "ipython",
    "version": 3
   },
   "file_extension": ".py",
   "mimetype": "text/x-python",
   "name": "python",
   "nbconvert_exporter": "python",
   "pygments_lexer": "ipython3",
   "version": "3.6.5"
  }
 },
 "nbformat": 4,
 "nbformat_minor": 4
}
